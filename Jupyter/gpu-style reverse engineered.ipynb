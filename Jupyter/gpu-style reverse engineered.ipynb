{
 "cells": [
  {
   "cell_type": "code",
   "execution_count": 88,
   "id": "75c4f2a8-945a-4861-90fd-31c503d3d9ef",
   "metadata": {},
   "outputs": [],
   "source": [
    "import glob\n",
    "import os\n",
    "import random\n",
    "import tensorflow as tf\n",
    "import numpy as np"
   ]
  },
  {
   "cell_type": "code",
   "execution_count": 89,
   "id": "e2b7eadf-3da6-42ea-addb-64c71780385e",
   "metadata": {},
   "outputs": [],
   "source": [
    "#declare global variables\n",
    "TRAIN_SET_DIR = os.path.join('..', 'archive','TRAIN_V2','data_out_2')\n",
    "RANDOM_SEED = 42\n",
    "VALIDATION_RATE = 0.1\n",
    "SAMPLING_RATE = 22050\n",
    "BATCH_SIZE = 32\n",
    "EPOCHS = 100"
   ]
  },
  {
   "cell_type": "code",
   "execution_count": 90,
   "id": "7ec925d5-ff86-4a31-9684-9fab595479fd",
   "metadata": {},
   "outputs": [],
   "source": [
    "#create array to store all the training song paths\n",
    "song_paths = []\n",
    "song_genre_nums = []\n",
    "\n",
    "# loop over each music genre\n",
    "for genre_num in os.listdir(TRAIN_SET_DIR):\n",
    "    \n",
    "    # in each music genre, add the paths of all the music to the array\n",
    "    for song_path in os.listdir(os.path.join(TRAIN_SET_DIR, genre_num)):\n",
    "        song_paths.append(os.path.join(TRAIN_SET_DIR, genre_num, song_path))\n",
    "        song_genre_nums.append(genre_num)"
   ]
  },
  {
   "cell_type": "code",
   "execution_count": 91,
   "id": "577fed78-5107-42f1-bb72-737cc37cee06",
   "metadata": {},
   "outputs": [],
   "source": [
    "# suffle both arrays with the same shuffle seed\n",
    "r = np.random.seed(RANDOM_SEED)\n",
    "random.shuffle(song_paths)\n",
    "r = np.random.seed(RANDOM_SEED)\n",
    "random.shuffle(song_genre_nums)"
   ]
  },
  {
   "cell_type": "code",
   "execution_count": 92,
   "id": "a6dc9177-290d-4086-aac7-12dbe7aee57d",
   "metadata": {},
   "outputs": [
    {
     "name": "stdout",
     "output_type": "stream",
     "text": [
      "number of validations\n",
      "1990\n",
      "number of trainings\n",
      "17919\n"
     ]
    }
   ],
   "source": [
    "# split both into training and testing sets\n",
    "num_songs = len(song_genre_nums)\n",
    "num_validation = int(num_songs * VALIDATION_RATE)\n",
    "\n",
    "print(\"number of validations\")\n",
    "print(num_validation)\n",
    "print('number of trainings')\n",
    "print(num_songs - num_validation)\n",
    "\n",
    "validation_genres = song_genre_nums[-num_validation :]\n",
    "validation_paths = song_paths[-num_validation :]\n",
    "\n",
    "training_genres = song_genre_nums[: -num_validation]\n",
    "training_paths = song_paths[: -num_validation]"
   ]
  },
  {
   "cell_type": "code",
   "execution_count": 126,
   "id": "6e1ce676-b9b1-4831-9ee6-cfcba4bdae60",
   "metadata": {},
   "outputs": [
    {
     "name": "stdout",
     "output_type": "stream",
     "text": [
      "validation dataset size: 63\n",
      "training dataset size: 560\n",
      "audio shape: Tensor(\"Shape:0\", shape=(None,), dtype=int32)\n",
      "audio shape: Tensor(\"Shape:0\", shape=(None,), dtype=int32)\n"
     ]
    },
    {
     "data": {
      "text/plain": [
       "<ParallelMapDataset shapes: (<unknown>, (None,)), types: (tf.float32, tf.string)>"
      ]
     },
     "execution_count": 126,
     "metadata": {},
     "output_type": "execute_result"
    }
   ],
   "source": [
    "# some useful funcs\n",
    "\n",
    "# create tf dataset from the array of paths and flags\n",
    "def create_audio_dataset(paths, genre_nums):\n",
    "\n",
    "    paths = tf.data.Dataset.from_tensor_slices(paths)\n",
    "    samples = paths.map(path_to_audio_samples)\n",
    "\n",
    "    # debug:\n",
    "    # print(\"Number of paths: {}\".format(len(paths)))\n",
    "    # print(\"samples: {}\".format(samples.cardinality()))\n",
    "\n",
    "    flags = tf.data.Dataset.from_tensor_slices(genre_nums)\n",
    "    return tf.data.Dataset.zip((samples, flags))\n",
    "    \n",
    "# given an audio file path, return audio samples\n",
    "def path_to_audio_samples(path):\n",
    "    # print(path.shape())\n",
    "    audio = tf.io.read_file(path)\n",
    "    audio_tensor, _ = tf.audio.decode_wav(audio, 1, SAMPLING_RATE)\n",
    "\n",
    "    if audio_tensor is not None:\n",
    "        return audio_tensor\n",
    "    else:\n",
    "        return tf.zeros([SAMPLING_RATE, 1])\n",
    "\n",
    "def audio_to_fft(audio_data):\n",
    "    # call fft on first element, keep second element as is\n",
    "    audio = tf.squeeze(audio_data)\n",
    "    fft = tf.signal.fft(\n",
    "        tf.complex(real = audio, imag = tf.zeros_like(audio))\n",
    "    )\n",
    "    \n",
    "    fft = tf.expand_dims(fft, axis = -1)\n",
    "\n",
    "    shape = tf.shape(audio)\n",
    "    print(\"audio shape: {}\".format(shape))\n",
    "\n",
    "    # Thanks a lot for this one, chatGPT!!!\n",
    "    # This can probably introduce some issues\n",
    "    # we are basically assuming the length of the tracks that we aren't sure of\n",
    "    length = shape[0] // 2 if shape[0] is not None else shape[-1]\n",
    "\n",
    "    return tf.abs(fft[:, : length , :])\n",
    "\n",
    "validation_dataset = create_audio_dataset(validation_paths, validation_genres).shuffle(RANDOM_SEED).batch(BATCH_SIZE)\n",
    "training_dataset = create_audio_dataset(training_paths, training_genres).shuffle(RANDOM_SEED).batch(BATCH_SIZE)\n",
    "\n",
    "print(\"validation dataset size: {}\".format(validation_dataset.cardinality()))\n",
    "print(\"training dataset size: {}\".format(training_dataset.cardinality()))\n",
    "\n",
    "# validation_dataset.shuffle(RANDOM_SEED).batch(BATCH_SIZE)\n",
    "# training_dataset.shuffle(RANDOM_SEED).batch(BATCH_SIZE)\n",
    "\n",
    "validation_dataset.map(lambda x, y: (audio_to_fft(x), y), num_parallel_calls=tf.data.AUTOTUNE)\n",
    "training_dataset.map(lambda x, y: (audio_to_fft(x), y), num_parallel_calls=tf.data.AUTOTUNE)\n"
   ]
  },
  {
   "cell_type": "code",
   "execution_count": null,
   "id": "36c22f39",
   "metadata": {},
   "outputs": [],
   "source": [
    "# call prefetch on both datasets\n",
    "validation_dataset = validation_dataset.prefetch(tf.data.AUTOTUNE)\n",
    "training_dataset = training_dataset.prefetch(tf.data.AUTOTUNE)"
   ]
  }
 ],
 "metadata": {
  "kernelspec": {
   "display_name": "Python 3 (ipykernel)",
   "language": "python",
   "name": "python3"
  },
  "language_info": {
   "codemirror_mode": {
    "name": "ipython",
    "version": 3
   },
   "file_extension": ".py",
   "mimetype": "text/x-python",
   "name": "python",
   "nbconvert_exporter": "python",
   "pygments_lexer": "ipython3",
   "version": "3.9.16"
  }
 },
 "nbformat": 4,
 "nbformat_minor": 5
}
