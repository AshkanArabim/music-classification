{
 "cells": [
  {
   "cell_type": "code",
   "execution_count": 233,
   "id": "75c4f2a8-945a-4861-90fd-31c503d3d9ef",
   "metadata": {},
   "outputs": [],
   "source": [
    "import glob\n",
    "import os\n",
    "import random\n",
    "import tensorflow as tf"
   ]
  },
  {
   "cell_type": "code",
   "execution_count": 234,
   "id": "e2b7eadf-3da6-42ea-addb-64c71780385e",
   "metadata": {},
   "outputs": [],
   "source": [
    "#declare global variables\n",
    "TRAIN_SET_DIR = os.path.join('..', 'archive','TRAIN_V2','data_out_2')\n",
    "RANDOM_SEED = 42\n",
    "VALIDATION_RATE = 0.1\n",
    "SAMPLING_RATE = 22050\n",
    "BATCH_SIZE = 32"
   ]
  },
  {
   "cell_type": "code",
   "execution_count": 235,
   "id": "7ec925d5-ff86-4a31-9684-9fab595479fd",
   "metadata": {},
   "outputs": [],
   "source": [
    "#create array to store all the training song paths\n",
    "song_paths = []\n",
    "song_genre_nums = []\n",
    "\n",
    "# loop over each music genre\n",
    "for genre_num in os.listdir(TRAIN_SET_DIR):\n",
    "    \n",
    "    # in each music genre, add the paths of all the music to the array\n",
    "    for song_path in os.listdir(os.path.join(TRAIN_SET_DIR, genre_num)):\n",
    "        song_paths.append(os.path.join(TRAIN_SET_DIR, genre_num, song_path))\n",
    "        song_genre_nums.append(genre_num)"
   ]
  },
  {
   "cell_type": "code",
   "execution_count": 236,
   "id": "577fed78-5107-42f1-bb72-737cc37cee06",
   "metadata": {},
   "outputs": [],
   "source": [
    "# suffle both arrays with the same shuffle seed\n",
    "random.seed(RANDOM_SEED)\n",
    "random.shuffle(song_paths)\n",
    "random.seed(RANDOM_SEED)\n",
    "random.shuffle(song_genre_nums)"
   ]
  },
  {
   "cell_type": "code",
   "execution_count": 237,
   "id": "a6dc9177-290d-4086-aac7-12dbe7aee57d",
   "metadata": {},
   "outputs": [
    {
     "name": "stdout",
     "output_type": "stream",
     "text": [
      "number of validations\n",
      "1990\n",
      "number of trainings\n",
      "17919\n"
     ]
    }
   ],
   "source": [
    "# split both into training and testing sets\n",
    "num_songs = len(song_genre_nums)\n",
    "num_validation = int(num_songs * VALIDATION_RATE)\n",
    "\n",
    "print(\"number of validations\")\n",
    "print(num_validation)\n",
    "print('number of trainings')\n",
    "print(num_songs - num_validation)\n",
    "\n",
    "validation_genres = song_genre_nums[-num_validation :]\n",
    "validation_paths = song_paths[-num_validation :]\n",
    "\n",
    "training_genres = song_genre_nums[: -num_validation]\n",
    "training_paths = song_paths[: -num_validation]"
   ]
  },
  {
   "cell_type": "code",
   "execution_count": 238,
   "id": "6e1ce676-b9b1-4831-9ee6-cfcba4bdae60",
   "metadata": {},
   "outputs": [],
   "source": [
    "# some useful funcs\n",
    "\n",
    "# create tf dataset from the array of paths and flags\n",
    "def create_audio_dataset(paths, genre_nums):\n",
    "    paths = tf.data.Dataset.from_tensor_slices(paths);\n",
    "    samples = paths.map(path_to_audio_samples)\n",
    "    flags = tf.data.Dataset.from_tensor_slices(genre_nums)\n",
    "    return tf.data.Dataset.zip((samples, flags))\n",
    "    \n",
    "# given an audio file path, return audio samples\n",
    "def path_to_audio_samples(path):\n",
    "    audio = tf.io.read_file(path)\n",
    "    audio_tensor, _ = tf.audio.decode_wav(audio, 1, SAMPLING_RATE)\n",
    "    return audio_tensor\n",
    "\n",
    "def audio_to_fft(audio_data):\n",
    "    # call fft on first element, keep second element as is\n",
    "    audio_sample = audio_data[0]"
   ]
  },
  {
   "cell_type": "code",
   "execution_count": 239,
   "id": "8cbb2018-0e3d-422e-83af-a629847c9430",
   "metadata": {},
   "outputs": [],
   "source": [
    "validation_dataset = create_audio_dataset(validation_paths, validation_genres)\n",
    "training_dataset = create_audio_dataset(training_paths, training_genres)"
   ]
  },
  {
   "cell_type": "code",
   "execution_count": 240,
   "id": "3e971d06-7237-4fbd-8d7c-dc72d27e339f",
   "metadata": {},
   "outputs": [
    {
     "data": {
      "text/plain": [
       "<BatchDataset shapes: ((None, 22050, 1), (None,)), types: (tf.float32, tf.string)>"
      ]
     },
     "execution_count": 240,
     "metadata": {},
     "output_type": "execute_result"
    }
   ],
   "source": [
    "validation_dataset.shuffle(RANDOM_SEED).batch(BATCH_SIZE)\n",
    "training_dataset.shuffle(RANDOM_SEED).batch(BATCH_SIZE)"
   ]
  }
 ],
 "metadata": {
  "kernelspec": {
   "display_name": "Python 3 (ipykernel)",
   "language": "python",
   "name": "python3"
  },
  "language_info": {
   "codemirror_mode": {
    "name": "ipython",
    "version": 3
   },
   "file_extension": ".py",
   "mimetype": "text/x-python",
   "name": "python",
   "nbconvert_exporter": "python",
   "pygments_lexer": "ipython3",
   "version": "3.9.16"
  }
 },
 "nbformat": 4,
 "nbformat_minor": 5
}
