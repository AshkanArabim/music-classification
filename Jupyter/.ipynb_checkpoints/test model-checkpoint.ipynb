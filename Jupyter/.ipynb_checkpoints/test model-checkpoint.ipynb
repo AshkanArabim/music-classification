{
 "cells": [
  {
   "cell_type": "code",
   "execution_count": 25,
   "id": "53884c42-27d8-47b2-bb74-441e69db6c44",
   "metadata": {},
   "outputs": [],
   "source": [
    "import pandas as pd #used to work with tabular data\n",
    "import librosa # library audio analysis\n",
    "from IPython.display import Audio # to play tracks in jupyter\n",
    "import glob # lists the files in a directory\n",
    "import os\n",
    "# import matplotlib\n",
    "\n",
    "# for making feedforward model\n",
    "import tensorflow as tf\n",
    "import keras"
   ]
  },
  {
   "cell_type": "code",
   "execution_count": null,
   "id": "4c6acce4-caec-410b-917f-6c17c0844bc9",
   "metadata": {},
   "outputs": [],
   "source": []
  },
  {
   "cell_type": "code",
   "execution_count": 26,
   "id": "37994ea8-9402-4029-9b54-f20a85d92cd3",
   "metadata": {},
   "outputs": [],
   "source": [
    "# CAPITALIZED variables are CONSTANTS\n",
    "\n",
    "DATASET_AUDIO_PATH = '../archive/TRAIN_V2/data_out_2'\n",
    "TEST_SPLIT = 16000\n",
    "SAMPLE_RATE = 22050\n",
    "SHUFFLE_SEED = 43 # unused ...\n",
    "SCALE = 0.5 # I honestly don't know where they are going to use this"
   ]
  },
  {
   "cell_type": "code",
   "execution_count": 27,
   "id": "7a0f2f7d-2f1b-4c36-acde-128a6172a25a",
   "metadata": {},
   "outputs": [],
   "source": [
    "# function to cut audio time series into smaller pieces\n",
    "\n",
    "def cut_song(song):\n",
    "  start = 0\n",
    "  end = len(song)\n",
    "  \n",
    "  song_pieces = []\n",
    "\n",
    "  while start + 100000 < end:\n",
    "    song_pieces.append(song[start:start+100000])\n",
    "\n",
    "    start += 100000\n",
    "\n",
    "  return song_pieces"
   ]
  },
  {
   "cell_type": "code",
   "execution_count": 28,
   "id": "66fd2304-a7b4-4e79-a7ad-cdae9274ba86",
   "metadata": {},
   "outputs": [],
   "source": [
    "#function to convert song into a list of mel spectrograms\n",
    "\n",
    "def prepare_song(song_path):\n",
    "  list_matrices = []\n",
    "  y,sr = librosa.load(song_path,sr=SAMPLE_RATE)\n",
    "  song_pieces = cut_song(y)\n",
    "  for song_piece in song_pieces:\n",
    "    # here, song_piece is an audio time series. it's a piece of our y variable\n",
    "    melspect = librosa.feature.melspectrogram(y = song_piece, sr = sr)\n",
    "    list_matrices.append(melspect)\n",
    "  return list_matrices"
   ]
  },
  {
   "cell_type": "code",
   "execution_count": 29,
   "id": "f14564b0-f955-4c8a-a5d4-a30d2df256a3",
   "metadata": {},
   "outputs": [
    {
     "name": "stdout",
     "output_type": "stream",
     "text": [
      "['0', '1', '10', '11', '12', '13', '14', '15', '16', '17', '18', '2', '3', '4', '5', '6', '7', '8', '9']\n",
      "pricessing classname 0\n",
      "pricessing classname 1\n",
      "pricessing classname 10\n",
      "pricessing classname 11\n",
      "pricessing classname 12\n",
      "pricessing classname 13\n",
      "pricessing classname 14\n",
      "pricessing classname 15\n",
      "pricessing classname 16\n",
      "pricessing classname 17\n",
      "pricessing classname 18\n",
      "pricessing classname 2\n",
      "pricessing classname 3\n",
      "pricessing classname 4\n",
      "pricessing classname 5\n",
      "pricessing classname 6\n",
      "pricessing classname 7\n",
      "pricessing classname 8\n",
      "pricessing classname 9\n",
      "found 19909 files in 19 genres\n"
     ]
    }
   ],
   "source": [
    "# all tracks will be the X features and genre will be the target y\n",
    "\n",
    "\n",
    "all_paths = [] # will hold \n",
    "labels = []\n",
    "classnames = os.listdir(DATASET_AUDIO_PATH)\n",
    "\n",
    "print(classnames)\n",
    "\n",
    "# add all the songs that are in each class folder\n",
    "for label, classname in enumerate(classnames):\n",
    "    print(\"pricessing classname {}\".format(classname))\n",
    "    \n",
    "    # create list of paths from all music in current folder\n",
    "    class_directory = os.path.join(DATASET_AUDIO_PATH, classname)\n",
    "    \n",
    "    # contains all the tracks in the current folder (e.g. folder 12)\n",
    "    current_audio_paths = [\n",
    "        os.path.join(class_directory, filename)\n",
    "        for filename in os.listdir(class_directory)\n",
    "        if filename.endswith('.wav') # not really necessary, but just in case\n",
    "    ]\n",
    "    # add song classname to genre list\n",
    "    labels += [label] * len(current_audio_paths)\n",
    "    \n",
    "    # add song path to all_paths\n",
    "    all_paths += current_audio_paths\n",
    "    \n",
    "print('found {} files in {} genres'.format(len(labels), len(classnames)))"
   ]
  },
  {
   "cell_type": "code",
   "execution_count": 30,
   "id": "60b432aa-d40a-40b7-be99-07be5c3a33b1",
   "metadata": {},
   "outputs": [
    {
     "ename": "TypeError",
     "evalue": "in user code:\n\n    C:\\Users\\ashka\\AppData\\Local\\Temp\\ipykernel_54128\\2815910138.py:5 prepare_song  *\n        y,sr = librosa.load(song_path,sr=SAMPLE_RATE)\n    C:\\Users\\ashka\\anaconda3\\envs\\tf\\lib\\site-packages\\librosa\\core\\audio.py:176 load  *\n        y, sr_native = __soundfile_load(path, offset, duration, dtype)\n    C:\\Users\\ashka\\anaconda3\\envs\\tf\\lib\\site-packages\\librosa\\core\\audio.py:209 __soundfile_load  *\n        context = sf.SoundFile(path)\n    C:\\Users\\ashka\\anaconda3\\envs\\tf\\lib\\site-packages\\soundfile.py:658 __init__  **\n        self._file = self._open(file, mode_int, closefd)\n    C:\\Users\\ashka\\anaconda3\\envs\\tf\\lib\\site-packages\\soundfile.py:1212 _open\n        raise TypeError(\"Invalid file: {0!r}\".format(self.name))\n\n    TypeError: Invalid file: <tf.Tensor: shape=(), dtype=string, numpy=b'../archive/TRAIN_V2/data_out_2\\\\0\\\\0.wav'>\n",
     "output_type": "error",
     "traceback": [
      "\u001b[1;31m---------------------------------------------------------------------------\u001b[0m",
      "\u001b[1;31mTypeError\u001b[0m                                 Traceback (most recent call last)",
      "Cell \u001b[1;32mIn[30], line 5\u001b[0m\n\u001b[0;32m      2\u001b[0m all_paths \u001b[38;5;241m=\u001b[39m tf\u001b[38;5;241m.\u001b[39mconvert_to_tensor(all_paths, dtype \u001b[38;5;241m=\u001b[39m tf\u001b[38;5;241m.\u001b[39mstring)\n\u001b[0;32m      4\u001b[0m \u001b[38;5;66;03m# use tensorflow to map all_paths to the audio file\u001b[39;00m\n\u001b[1;32m----> 5\u001b[0m \u001b[43mtf\u001b[49m\u001b[38;5;241;43m.\u001b[39;49m\u001b[43mmap_fn\u001b[49m\u001b[43m(\u001b[49m\u001b[43melems\u001b[49m\u001b[43m \u001b[49m\u001b[38;5;241;43m=\u001b[39;49m\u001b[43m \u001b[49m\u001b[43mall_paths\u001b[49m\u001b[43m,\u001b[49m\u001b[43m \u001b[49m\u001b[43mfn\u001b[49m\u001b[43m \u001b[49m\u001b[38;5;241;43m=\u001b[39;49m\u001b[43m \u001b[49m\u001b[43mprepare_song\u001b[49m\u001b[43m)\u001b[49m\n",
      "File \u001b[1;32m~\\anaconda3\\envs\\tf\\lib\\site-packages\\tensorflow\\python\\util\\deprecation.py:617\u001b[0m, in \u001b[0;36mdeprecated_arg_values.<locals>.deprecated_wrapper.<locals>.new_func\u001b[1;34m(*args, **kwargs)\u001b[0m\n\u001b[0;32m    610\u001b[0m           _PRINTED_WARNING[(func, arg_name)] \u001b[38;5;241m=\u001b[39m \u001b[38;5;28;01mTrue\u001b[39;00m\n\u001b[0;32m    611\u001b[0m         logging\u001b[38;5;241m.\u001b[39mwarning(\n\u001b[0;32m    612\u001b[0m             \u001b[38;5;124m'\u001b[39m\u001b[38;5;124mFrom \u001b[39m\u001b[38;5;132;01m%s\u001b[39;00m\u001b[38;5;124m: calling \u001b[39m\u001b[38;5;132;01m%s\u001b[39;00m\u001b[38;5;124m (from \u001b[39m\u001b[38;5;132;01m%s\u001b[39;00m\u001b[38;5;124m) with \u001b[39m\u001b[38;5;132;01m%s\u001b[39;00m\u001b[38;5;124m=\u001b[39m\u001b[38;5;132;01m%s\u001b[39;00m\u001b[38;5;124m is deprecated and \u001b[39m\u001b[38;5;124m'\u001b[39m\n\u001b[0;32m    613\u001b[0m             \u001b[38;5;124m'\u001b[39m\u001b[38;5;124mwill be removed \u001b[39m\u001b[38;5;132;01m%s\u001b[39;00m\u001b[38;5;124m.\u001b[39m\u001b[38;5;130;01m\\n\u001b[39;00m\u001b[38;5;124mInstructions for updating:\u001b[39m\u001b[38;5;130;01m\\n\u001b[39;00m\u001b[38;5;132;01m%s\u001b[39;00m\u001b[38;5;124m'\u001b[39m,\n\u001b[0;32m    614\u001b[0m             _call_location(), decorator_utils\u001b[38;5;241m.\u001b[39mget_qualified_name(func),\n\u001b[0;32m    615\u001b[0m             func\u001b[38;5;241m.\u001b[39m\u001b[38;5;18m__module__\u001b[39m, arg_name, arg_value, \u001b[38;5;124m'\u001b[39m\u001b[38;5;124min a future version\u001b[39m\u001b[38;5;124m'\u001b[39m\n\u001b[0;32m    616\u001b[0m             \u001b[38;5;28;01mif\u001b[39;00m date \u001b[38;5;129;01mis\u001b[39;00m \u001b[38;5;28;01mNone\u001b[39;00m \u001b[38;5;28;01melse\u001b[39;00m (\u001b[38;5;124m'\u001b[39m\u001b[38;5;124mafter \u001b[39m\u001b[38;5;132;01m%s\u001b[39;00m\u001b[38;5;124m'\u001b[39m \u001b[38;5;241m%\u001b[39m date), instructions)\n\u001b[1;32m--> 617\u001b[0m \u001b[38;5;28;01mreturn\u001b[39;00m func(\u001b[38;5;241m*\u001b[39margs, \u001b[38;5;241m*\u001b[39m\u001b[38;5;241m*\u001b[39mkwargs)\n",
      "File \u001b[1;32m~\\anaconda3\\envs\\tf\\lib\\site-packages\\tensorflow\\python\\util\\deprecation.py:549\u001b[0m, in \u001b[0;36mdeprecated_args.<locals>.deprecated_wrapper.<locals>.new_func\u001b[1;34m(*args, **kwargs)\u001b[0m\n\u001b[0;32m    541\u001b[0m         _PRINTED_WARNING[(func, arg_name)] \u001b[38;5;241m=\u001b[39m \u001b[38;5;28;01mTrue\u001b[39;00m\n\u001b[0;32m    542\u001b[0m       logging\u001b[38;5;241m.\u001b[39mwarning(\n\u001b[0;32m    543\u001b[0m           \u001b[38;5;124m'\u001b[39m\u001b[38;5;124mFrom \u001b[39m\u001b[38;5;132;01m%s\u001b[39;00m\u001b[38;5;124m: calling \u001b[39m\u001b[38;5;132;01m%s\u001b[39;00m\u001b[38;5;124m (from \u001b[39m\u001b[38;5;132;01m%s\u001b[39;00m\u001b[38;5;124m) with \u001b[39m\u001b[38;5;132;01m%s\u001b[39;00m\u001b[38;5;124m is deprecated and will \u001b[39m\u001b[38;5;124m'\u001b[39m\n\u001b[0;32m    544\u001b[0m           \u001b[38;5;124m'\u001b[39m\u001b[38;5;124mbe removed \u001b[39m\u001b[38;5;132;01m%s\u001b[39;00m\u001b[38;5;124m.\u001b[39m\u001b[38;5;130;01m\\n\u001b[39;00m\u001b[38;5;124mInstructions for updating:\u001b[39m\u001b[38;5;130;01m\\n\u001b[39;00m\u001b[38;5;132;01m%s\u001b[39;00m\u001b[38;5;124m'\u001b[39m,\n\u001b[1;32m   (...)\u001b[0m\n\u001b[0;32m    547\u001b[0m           \u001b[38;5;124m'\u001b[39m\u001b[38;5;124min a future version\u001b[39m\u001b[38;5;124m'\u001b[39m \u001b[38;5;28;01mif\u001b[39;00m date \u001b[38;5;129;01mis\u001b[39;00m \u001b[38;5;28;01mNone\u001b[39;00m \u001b[38;5;28;01melse\u001b[39;00m (\u001b[38;5;124m'\u001b[39m\u001b[38;5;124mafter \u001b[39m\u001b[38;5;132;01m%s\u001b[39;00m\u001b[38;5;124m'\u001b[39m \u001b[38;5;241m%\u001b[39m date),\n\u001b[0;32m    548\u001b[0m           instructions)\n\u001b[1;32m--> 549\u001b[0m \u001b[38;5;28;01mreturn\u001b[39;00m func(\u001b[38;5;241m*\u001b[39margs, \u001b[38;5;241m*\u001b[39m\u001b[38;5;241m*\u001b[39mkwargs)\n",
      "File \u001b[1;32m~\\anaconda3\\envs\\tf\\lib\\site-packages\\tensorflow\\python\\ops\\map_fn.py:643\u001b[0m, in \u001b[0;36mmap_fn_v2\u001b[1;34m(fn, elems, dtype, parallel_iterations, back_prop, swap_memory, infer_shape, name, fn_output_signature)\u001b[0m\n\u001b[0;32m    641\u001b[0m \u001b[38;5;28;01mif\u001b[39;00m fn_output_signature \u001b[38;5;129;01mis\u001b[39;00m \u001b[38;5;28;01mNone\u001b[39;00m:\n\u001b[0;32m    642\u001b[0m   fn_output_signature \u001b[38;5;241m=\u001b[39m dtype\n\u001b[1;32m--> 643\u001b[0m \u001b[38;5;28;01mreturn\u001b[39;00m \u001b[43mmap_fn\u001b[49m\u001b[43m(\u001b[49m\n\u001b[0;32m    644\u001b[0m \u001b[43m    \u001b[49m\u001b[43mfn\u001b[49m\u001b[38;5;241;43m=\u001b[39;49m\u001b[43mfn\u001b[49m\u001b[43m,\u001b[49m\n\u001b[0;32m    645\u001b[0m \u001b[43m    \u001b[49m\u001b[43melems\u001b[49m\u001b[38;5;241;43m=\u001b[39;49m\u001b[43melems\u001b[49m\u001b[43m,\u001b[49m\n\u001b[0;32m    646\u001b[0m \u001b[43m    \u001b[49m\u001b[43mfn_output_signature\u001b[49m\u001b[38;5;241;43m=\u001b[39;49m\u001b[43mfn_output_signature\u001b[49m\u001b[43m,\u001b[49m\n\u001b[0;32m    647\u001b[0m \u001b[43m    \u001b[49m\u001b[43mparallel_iterations\u001b[49m\u001b[38;5;241;43m=\u001b[39;49m\u001b[43mparallel_iterations\u001b[49m\u001b[43m,\u001b[49m\n\u001b[0;32m    648\u001b[0m \u001b[43m    \u001b[49m\u001b[43mback_prop\u001b[49m\u001b[38;5;241;43m=\u001b[39;49m\u001b[43mback_prop\u001b[49m\u001b[43m,\u001b[49m\n\u001b[0;32m    649\u001b[0m \u001b[43m    \u001b[49m\u001b[43mswap_memory\u001b[49m\u001b[38;5;241;43m=\u001b[39;49m\u001b[43mswap_memory\u001b[49m\u001b[43m,\u001b[49m\n\u001b[0;32m    650\u001b[0m \u001b[43m    \u001b[49m\u001b[43minfer_shape\u001b[49m\u001b[38;5;241;43m=\u001b[39;49m\u001b[43minfer_shape\u001b[49m\u001b[43m,\u001b[49m\n\u001b[0;32m    651\u001b[0m \u001b[43m    \u001b[49m\u001b[43mname\u001b[49m\u001b[38;5;241;43m=\u001b[39;49m\u001b[43mname\u001b[49m\u001b[43m)\u001b[49m\n",
      "File \u001b[1;32m~\\anaconda3\\envs\\tf\\lib\\site-packages\\tensorflow\\python\\util\\deprecation.py:549\u001b[0m, in \u001b[0;36mdeprecated_args.<locals>.deprecated_wrapper.<locals>.new_func\u001b[1;34m(*args, **kwargs)\u001b[0m\n\u001b[0;32m    541\u001b[0m         _PRINTED_WARNING[(func, arg_name)] \u001b[38;5;241m=\u001b[39m \u001b[38;5;28;01mTrue\u001b[39;00m\n\u001b[0;32m    542\u001b[0m       logging\u001b[38;5;241m.\u001b[39mwarning(\n\u001b[0;32m    543\u001b[0m           \u001b[38;5;124m'\u001b[39m\u001b[38;5;124mFrom \u001b[39m\u001b[38;5;132;01m%s\u001b[39;00m\u001b[38;5;124m: calling \u001b[39m\u001b[38;5;132;01m%s\u001b[39;00m\u001b[38;5;124m (from \u001b[39m\u001b[38;5;132;01m%s\u001b[39;00m\u001b[38;5;124m) with \u001b[39m\u001b[38;5;132;01m%s\u001b[39;00m\u001b[38;5;124m is deprecated and will \u001b[39m\u001b[38;5;124m'\u001b[39m\n\u001b[0;32m    544\u001b[0m           \u001b[38;5;124m'\u001b[39m\u001b[38;5;124mbe removed \u001b[39m\u001b[38;5;132;01m%s\u001b[39;00m\u001b[38;5;124m.\u001b[39m\u001b[38;5;130;01m\\n\u001b[39;00m\u001b[38;5;124mInstructions for updating:\u001b[39m\u001b[38;5;130;01m\\n\u001b[39;00m\u001b[38;5;132;01m%s\u001b[39;00m\u001b[38;5;124m'\u001b[39m,\n\u001b[1;32m   (...)\u001b[0m\n\u001b[0;32m    547\u001b[0m           \u001b[38;5;124m'\u001b[39m\u001b[38;5;124min a future version\u001b[39m\u001b[38;5;124m'\u001b[39m \u001b[38;5;28;01mif\u001b[39;00m date \u001b[38;5;129;01mis\u001b[39;00m \u001b[38;5;28;01mNone\u001b[39;00m \u001b[38;5;28;01melse\u001b[39;00m (\u001b[38;5;124m'\u001b[39m\u001b[38;5;124mafter \u001b[39m\u001b[38;5;132;01m%s\u001b[39;00m\u001b[38;5;124m'\u001b[39m \u001b[38;5;241m%\u001b[39m date),\n\u001b[0;32m    548\u001b[0m           instructions)\n\u001b[1;32m--> 549\u001b[0m \u001b[38;5;28;01mreturn\u001b[39;00m func(\u001b[38;5;241m*\u001b[39margs, \u001b[38;5;241m*\u001b[39m\u001b[38;5;241m*\u001b[39mkwargs)\n",
      "File \u001b[1;32m~\\anaconda3\\envs\\tf\\lib\\site-packages\\tensorflow\\python\\ops\\map_fn.py:501\u001b[0m, in \u001b[0;36mmap_fn\u001b[1;34m(fn, elems, dtype, parallel_iterations, back_prop, swap_memory, infer_shape, name, fn_output_signature)\u001b[0m\n\u001b[0;32m    496\u001b[0m   tas \u001b[38;5;241m=\u001b[39m [\n\u001b[0;32m    497\u001b[0m       ta\u001b[38;5;241m.\u001b[39mwrite(i, value) \u001b[38;5;28;01mfor\u001b[39;00m (ta, value) \u001b[38;5;129;01min\u001b[39;00m \u001b[38;5;28mzip\u001b[39m(tas, result_value_batchable)\n\u001b[0;32m    498\u001b[0m   ]\n\u001b[0;32m    499\u001b[0m   \u001b[38;5;28;01mreturn\u001b[39;00m (i \u001b[38;5;241m+\u001b[39m \u001b[38;5;241m1\u001b[39m, tas)\n\u001b[1;32m--> 501\u001b[0m _, r_a \u001b[38;5;241m=\u001b[39m \u001b[43mcontrol_flow_ops\u001b[49m\u001b[38;5;241;43m.\u001b[39;49m\u001b[43mwhile_loop\u001b[49m\u001b[43m(\u001b[49m\n\u001b[0;32m    502\u001b[0m \u001b[43m    \u001b[49m\u001b[38;5;28;43;01mlambda\u001b[39;49;00m\u001b[43m \u001b[49m\u001b[43mi\u001b[49m\u001b[43m,\u001b[49m\u001b[43m \u001b[49m\u001b[43m_\u001b[49m\u001b[43m:\u001b[49m\u001b[43m \u001b[49m\u001b[43mi\u001b[49m\u001b[43m \u001b[49m\u001b[38;5;241;43m<\u001b[39;49m\u001b[43m \u001b[49m\u001b[43mn\u001b[49m\u001b[43m,\u001b[49m\n\u001b[0;32m    503\u001b[0m \u001b[43m    \u001b[49m\u001b[43mcompute\u001b[49m\u001b[43m,\u001b[49m\u001b[43m \u001b[49m\u001b[43m(\u001b[49m\u001b[43mi\u001b[49m\u001b[43m,\u001b[49m\u001b[43m \u001b[49m\u001b[43mresult_batchable_ta\u001b[49m\u001b[43m)\u001b[49m\u001b[43m,\u001b[49m\n\u001b[0;32m    504\u001b[0m \u001b[43m    \u001b[49m\u001b[43mparallel_iterations\u001b[49m\u001b[38;5;241;43m=\u001b[39;49m\u001b[43mparallel_iterations\u001b[49m\u001b[43m,\u001b[49m\n\u001b[0;32m    505\u001b[0m \u001b[43m    \u001b[49m\u001b[43mback_prop\u001b[49m\u001b[38;5;241;43m=\u001b[39;49m\u001b[43mback_prop\u001b[49m\u001b[43m,\u001b[49m\n\u001b[0;32m    506\u001b[0m \u001b[43m    \u001b[49m\u001b[43mswap_memory\u001b[49m\u001b[38;5;241;43m=\u001b[39;49m\u001b[43mswap_memory\u001b[49m\u001b[43m,\u001b[49m\n\u001b[0;32m    507\u001b[0m \u001b[43m    \u001b[49m\u001b[43mmaximum_iterations\u001b[49m\u001b[38;5;241;43m=\u001b[39;49m\u001b[43mn\u001b[49m\u001b[43m)\u001b[49m\n\u001b[0;32m    508\u001b[0m result_batchable \u001b[38;5;241m=\u001b[39m [r\u001b[38;5;241m.\u001b[39mstack() \u001b[38;5;28;01mfor\u001b[39;00m r \u001b[38;5;129;01min\u001b[39;00m r_a]\n\u001b[0;32m    510\u001b[0m \u001b[38;5;66;03m# Update each output tensor w/ static shape info about the outer dimension.\u001b[39;00m\n",
      "File \u001b[1;32m~\\anaconda3\\envs\\tf\\lib\\site-packages\\tensorflow\\python\\ops\\control_flow_ops.py:2777\u001b[0m, in \u001b[0;36mwhile_loop\u001b[1;34m(cond, body, loop_vars, shape_invariants, parallel_iterations, back_prop, swap_memory, name, maximum_iterations, return_same_structure)\u001b[0m\n\u001b[0;32m   2774\u001b[0m loop_var_structure \u001b[38;5;241m=\u001b[39m nest\u001b[38;5;241m.\u001b[39mmap_structure(type_spec\u001b[38;5;241m.\u001b[39mtype_spec_from_value,\n\u001b[0;32m   2775\u001b[0m                                         \u001b[38;5;28mlist\u001b[39m(loop_vars))\n\u001b[0;32m   2776\u001b[0m \u001b[38;5;28;01mwhile\u001b[39;00m cond(\u001b[38;5;241m*\u001b[39mloop_vars):\n\u001b[1;32m-> 2777\u001b[0m   loop_vars \u001b[38;5;241m=\u001b[39m \u001b[43mbody\u001b[49m\u001b[43m(\u001b[49m\u001b[38;5;241;43m*\u001b[39;49m\u001b[43mloop_vars\u001b[49m\u001b[43m)\u001b[49m\n\u001b[0;32m   2778\u001b[0m   \u001b[38;5;28;01mif\u001b[39;00m try_to_pack \u001b[38;5;129;01mand\u001b[39;00m \u001b[38;5;129;01mnot\u001b[39;00m \u001b[38;5;28misinstance\u001b[39m(loop_vars, (\u001b[38;5;28mlist\u001b[39m, _basetuple)):\n\u001b[0;32m   2779\u001b[0m     packed \u001b[38;5;241m=\u001b[39m \u001b[38;5;28;01mTrue\u001b[39;00m\n",
      "File \u001b[1;32m~\\anaconda3\\envs\\tf\\lib\\site-packages\\tensorflow\\python\\ops\\control_flow_ops.py:2768\u001b[0m, in \u001b[0;36mwhile_loop.<locals>.<lambda>\u001b[1;34m(i, lv)\u001b[0m\n\u001b[0;32m   2765\u001b[0m     loop_vars \u001b[38;5;241m=\u001b[39m (counter, loop_vars)\n\u001b[0;32m   2766\u001b[0m     cond \u001b[38;5;241m=\u001b[39m \u001b[38;5;28;01mlambda\u001b[39;00m i, lv: (  \u001b[38;5;66;03m# pylint: disable=g-long-lambda\u001b[39;00m\n\u001b[0;32m   2767\u001b[0m         math_ops\u001b[38;5;241m.\u001b[39mlogical_and(i \u001b[38;5;241m<\u001b[39m maximum_iterations, orig_cond(\u001b[38;5;241m*\u001b[39mlv)))\n\u001b[1;32m-> 2768\u001b[0m     body \u001b[38;5;241m=\u001b[39m \u001b[38;5;28;01mlambda\u001b[39;00m i, lv: (i \u001b[38;5;241m+\u001b[39m \u001b[38;5;241m1\u001b[39m, \u001b[43morig_body\u001b[49m\u001b[43m(\u001b[49m\u001b[38;5;241;43m*\u001b[39;49m\u001b[43mlv\u001b[49m\u001b[43m)\u001b[49m)\n\u001b[0;32m   2769\u001b[0m   try_to_pack \u001b[38;5;241m=\u001b[39m \u001b[38;5;28;01mFalse\u001b[39;00m\n\u001b[0;32m   2771\u001b[0m \u001b[38;5;28;01mif\u001b[39;00m executing_eagerly:\n",
      "File \u001b[1;32m~\\anaconda3\\envs\\tf\\lib\\site-packages\\tensorflow\\python\\ops\\map_fn.py:491\u001b[0m, in \u001b[0;36mmap_fn.<locals>.compute\u001b[1;34m(i, tas)\u001b[0m\n\u001b[0;32m    489\u001b[0m ag_ctx \u001b[38;5;241m=\u001b[39m autograph_ctx\u001b[38;5;241m.\u001b[39mcontrol_status_ctx()\n\u001b[0;32m    490\u001b[0m autographed_fn \u001b[38;5;241m=\u001b[39m autograph\u001b[38;5;241m.\u001b[39mtf_convert(fn, ag_ctx)\n\u001b[1;32m--> 491\u001b[0m result_value \u001b[38;5;241m=\u001b[39m \u001b[43mautographed_fn\u001b[49m\u001b[43m(\u001b[49m\u001b[43melems_value\u001b[49m\u001b[43m)\u001b[49m\n\u001b[0;32m    492\u001b[0m nest\u001b[38;5;241m.\u001b[39massert_same_structure(fn_output_signature \u001b[38;5;129;01mor\u001b[39;00m elems, result_value)\n\u001b[0;32m    493\u001b[0m result_value_flat \u001b[38;5;241m=\u001b[39m nest\u001b[38;5;241m.\u001b[39mflatten(result_value)\n",
      "File \u001b[1;32m~\\anaconda3\\envs\\tf\\lib\\site-packages\\tensorflow\\python\\autograph\\impl\\api.py:695\u001b[0m, in \u001b[0;36mconvert.<locals>.decorator.<locals>.wrapper\u001b[1;34m(*args, **kwargs)\u001b[0m\n\u001b[0;32m    693\u001b[0m \u001b[38;5;28;01mexcept\u001b[39;00m \u001b[38;5;167;01mException\u001b[39;00m \u001b[38;5;28;01mas\u001b[39;00m e:  \u001b[38;5;66;03m# pylint:disable=broad-except\u001b[39;00m\n\u001b[0;32m    694\u001b[0m   \u001b[38;5;28;01mif\u001b[39;00m \u001b[38;5;28mhasattr\u001b[39m(e, \u001b[38;5;124m'\u001b[39m\u001b[38;5;124mag_error_metadata\u001b[39m\u001b[38;5;124m'\u001b[39m):\n\u001b[1;32m--> 695\u001b[0m     \u001b[38;5;28;01mraise\u001b[39;00m e\u001b[38;5;241m.\u001b[39mag_error_metadata\u001b[38;5;241m.\u001b[39mto_exception(e)\n\u001b[0;32m    696\u001b[0m   \u001b[38;5;28;01melse\u001b[39;00m:\n\u001b[0;32m    697\u001b[0m     \u001b[38;5;28;01mraise\u001b[39;00m\n",
      "\u001b[1;31mTypeError\u001b[0m: in user code:\n\n    C:\\Users\\ashka\\AppData\\Local\\Temp\\ipykernel_54128\\2815910138.py:5 prepare_song  *\n        y,sr = librosa.load(song_path,sr=SAMPLE_RATE)\n    C:\\Users\\ashka\\anaconda3\\envs\\tf\\lib\\site-packages\\librosa\\core\\audio.py:176 load  *\n        y, sr_native = __soundfile_load(path, offset, duration, dtype)\n    C:\\Users\\ashka\\anaconda3\\envs\\tf\\lib\\site-packages\\librosa\\core\\audio.py:209 __soundfile_load  *\n        context = sf.SoundFile(path)\n    C:\\Users\\ashka\\anaconda3\\envs\\tf\\lib\\site-packages\\soundfile.py:658 __init__  **\n        self._file = self._open(file, mode_int, closefd)\n    C:\\Users\\ashka\\anaconda3\\envs\\tf\\lib\\site-packages\\soundfile.py:1212 _open\n        raise TypeError(\"Invalid file: {0!r}\".format(self.name))\n\n    TypeError: Invalid file: <tf.Tensor: shape=(), dtype=string, numpy=b'../archive/TRAIN_V2/data_out_2\\\\0\\\\0.wav'>\n"
     ]
    }
   ],
   "source": [
    "# convert all_paths to a tf tensor\n",
    "all_paths = tf.convert_to_tensor(all_paths, dtype = tf.string)\n",
    "\n",
    "# # use tensorflow to map all_paths to the audio file\n",
    "# tf.map_fn(elems = all_paths, fn = prepare_song)\n",
    "\n",
    "# use numba cuda to convert audio file locations into mel spectrograms\n",
    "\n"
   ]
  },
  {
   "cell_type": "code",
   "execution_count": null,
   "id": "62f0206a-6fa1-4ae0-b014-e2918cb6a7a4",
   "metadata": {},
   "outputs": [],
   "source": [
    "# create the layers"
   ]
  }
 ],
 "metadata": {
  "kernelspec": {
   "display_name": "Python 3 (ipykernel)",
   "language": "python",
   "name": "python3"
  },
  "language_info": {
   "codemirror_mode": {
    "name": "ipython",
    "version": 3
   },
   "file_extension": ".py",
   "mimetype": "text/x-python",
   "name": "python",
   "nbconvert_exporter": "python",
   "pygments_lexer": "ipython3",
   "version": "3.9.16"
  }
 },
 "nbformat": 4,
 "nbformat_minor": 5
}
